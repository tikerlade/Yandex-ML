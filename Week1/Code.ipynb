{
 "cells": [
  {
   "cell_type": "markdown",
   "metadata": {},
   "source": [
    "# Code for the 1st week"
   ]
  },
  {
   "cell_type": "markdown",
   "metadata": {},
   "source": [
    "## 1) Intro to NumPy"
   ]
  },
  {
   "cell_type": "code",
   "execution_count": 2,
   "metadata": {},
   "outputs": [],
   "source": [
    "import numpy as np"
   ]
  },
  {
   "cell_type": "code",
   "execution_count": 12,
   "metadata": {
    "collapsed": true
   },
   "outputs": [
    {
     "name": "stdout",
     "output_type": "stream",
     "text": [
      "In first array NOT_NORMALIZED, in the second NORMALIZED \n",
      "\n",
      "\n",
      "[ 18.24888109  15.09645701  11.48757725  10.73625233  -1.66127747\n",
      "   4.34368645 -12.07199442  16.58340481  -4.4989423   -6.09736253\n",
      "  -1.35077829 -13.71513219   3.35534664  14.38397528   0.41629405\n",
      "   3.15754774   6.5713494   13.66677866   5.83365799   7.73690088\n",
      "  -2.29028776   9.01018292   3.64493189  19.51811344  -6.21030918\n",
      "   9.80126088  -5.30374433  10.35184879  13.72662792   2.71660243\n",
      " -13.97080464  -0.27637413  -3.86049693   3.98180436  12.20890901\n",
      " -12.44486963  11.38360291  -3.33943709  -8.10185238  -4.82887717\n",
      "   6.71741596  -6.50335408  -1.49387586  10.0744722    8.02636718\n",
      "   4.43092031   0.54132437  10.20449164   6.63565315   7.51304238]\n",
      "\n",
      "[ 1.66547839  1.37763774  1.05329159  0.96080457 -0.26873981  0.28969427\n",
      " -1.36753085  1.54692726 -0.57020085 -0.71438987 -0.25469444 -1.50087096\n",
      "  0.2754817   1.2942238  -0.07095294  0.23044961  0.59026551  1.15662602\n",
      "  0.51762091  0.6979856  -0.31848173  0.80620668  0.30025135  1.82551309\n",
      " -0.73899523  0.85514801 -0.64666324  0.93846114  1.30349807  0.16546951\n",
      " -1.46149064 -0.11863097 -0.50816037  0.31618974  1.09120431 -1.29016653\n",
      "  1.11538667 -0.46533889 -0.92546596 -0.55242798  0.49182488 -0.74706862\n",
      " -0.25529116  0.96222358  0.63249746  0.35518277 -0.0194797   0.93286542\n",
      "  0.5409407   0.67498301]\n"
     ]
    }
   ],
   "source": [
    "X = np.random.normal(loc=1, scale=10, size=(1000, 50))\n",
    "\n",
    "#avg value for columns\n",
    "avg = np.mean(X, axis=0) \n",
    "\n",
    "#std deviation for every column\n",
    "avg_deviation = np.std(X, axis=0)\n",
    "\n",
    "X_normalized = ((X - avg)/avg_deviation)\n",
    "\n",
    "print('In first array NOT_NORMALIZED, in the second NORMALIZED \\n\\n')\n",
    "print (X[0], X_normalized[0], sep='\\n\\n')"
   ]
  },
  {
   "cell_type": "code",
   "execution_count": 15,
   "metadata": {},
   "outputs": [],
   "source": [
    "sums = np.sum(X, axis=1)\n",
    "\n",
    "#out = [i for i in range(len(sums)) if sums[i] > 10]\n",
    "#print(out, sep=' ')\n",
    "\n",
    "out = np.nonzero(sums > 10)\n",
    "#print(out)"
   ]
  },
  {
   "cell_type": "code",
   "execution_count": 19,
   "metadata": {
    "collapsed": true
   },
   "outputs": [
    {
     "name": "stdout",
     "output_type": "stream",
     "text": [
      "[[1. 0. 0.]\n",
      " [0. 1. 0.]\n",
      " [0. 0. 1.]\n",
      " [1. 0. 0.]\n",
      " [0. 1. 0.]\n",
      " [0. 0. 1.]]\n"
     ]
    }
   ],
   "source": [
    "# Identity matrices\n",
    "A = np.eye(3)\n",
    "B = np.eye(3)\n",
    "\n",
    "res = np.vstack((A, B))\n",
    "print(res)"
   ]
  },
  {
   "cell_type": "markdown",
   "metadata": {},
   "source": [
    "## 2) Preprocessing data in Pandas"
   ]
  },
  {
   "cell_type": "code",
   "execution_count": null,
   "metadata": {},
   "outputs": [],
   "source": []
  }
 ],
 "metadata": {
  "kernelspec": {
   "display_name": "Python 2",
   "language": "python",
   "name": "python2"
  },
  "language_info": {
   "codemirror_mode": {
    "name": "ipython",
    "version": 3
   },
   "file_extension": ".py",
   "mimetype": "text/x-python",
   "name": "python",
   "nbconvert_exporter": "python",
   "pygments_lexer": "ipython3",
   "version": "3.6.8"
  }
 },
 "nbformat": 4,
 "nbformat_minor": 2
}
