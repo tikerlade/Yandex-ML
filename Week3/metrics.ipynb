{
 "cells": [
  {
   "cell_type": "markdown",
   "metadata": {},
   "source": [
    "## Metrics"
   ]
  },
  {
   "cell_type": "code",
   "execution_count": 58,
   "metadata": {},
   "outputs": [
    {
     "ename": "ModuleNotFoundError",
     "evalue": "No module named 'matplotlib'",
     "output_type": "error",
     "traceback": [
      "\u001b[0;31m---------------------------------------------------------------------------\u001b[0m",
      "\u001b[0;31mModuleNotFoundError\u001b[0m                       Traceback (most recent call last)",
      "\u001b[0;32m<ipython-input-58-a48ceccb2ebb>\u001b[0m in \u001b[0;36m<module>\u001b[0;34m\u001b[0m\n\u001b[1;32m      1\u001b[0m \u001b[0;32mimport\u001b[0m \u001b[0mpandas\u001b[0m \u001b[0;32mas\u001b[0m \u001b[0mpd\u001b[0m\u001b[0;34m\u001b[0m\u001b[0;34m\u001b[0m\u001b[0m\n\u001b[1;32m      2\u001b[0m \u001b[0;32mfrom\u001b[0m \u001b[0msklearn\u001b[0m \u001b[0;32mimport\u001b[0m \u001b[0mmetrics\u001b[0m\u001b[0;34m\u001b[0m\u001b[0;34m\u001b[0m\u001b[0m\n\u001b[0;32m----> 3\u001b[0;31m \u001b[0;32mimport\u001b[0m \u001b[0mmatplotlib\u001b[0m \u001b[0;32mas\u001b[0m \u001b[0mplt\u001b[0m\u001b[0;34m\u001b[0m\u001b[0;34m\u001b[0m\u001b[0m\n\u001b[0m",
      "\u001b[0;31mModuleNotFoundError\u001b[0m: No module named 'matplotlib'"
     ]
    }
   ],
   "source": [
    "import pandas as pd\n",
    "from sklearn import metrics\n",
    "import matplotlib as plt"
   ]
  },
  {
   "cell_type": "code",
   "execution_count": 10,
   "metadata": {},
   "outputs": [
    {
     "data": {
      "text/plain": [
       "200"
      ]
     },
     "execution_count": 10,
     "metadata": {},
     "output_type": "execute_result"
    }
   ],
   "source": [
    "data = pd.read_csv('classification.csv')\n",
    "len(data)"
   ]
  },
  {
   "cell_type": "code",
   "execution_count": 11,
   "metadata": {},
   "outputs": [
    {
     "data": {
      "text/plain": [
       "[[43, 34], [59, 64]]"
      ]
     },
     "execution_count": 11,
     "metadata": {},
     "output_type": "execute_result"
    }
   ],
   "source": [
    "table = [[0,0] for i in range(2)]\n",
    "\n",
    "for i in range(len(data)):\n",
    "    true = data.loc[i, 'true']\n",
    "    predicted = data.loc[i, 'pred']\n",
    "    \n",
    "    table[abs(predicted-1)][abs(true-1)] += 1\n",
    "table"
   ]
  },
  {
   "cell_type": "code",
   "execution_count": 12,
   "metadata": {},
   "outputs": [],
   "source": [
    "f = open('metrics-answer1.txt', 'w')\n",
    "f.write('43 34 59 64')\n",
    "f.close()"
   ]
  },
  {
   "cell_type": "code",
   "execution_count": 17,
   "metadata": {},
   "outputs": [
    {
     "ename": "TypeError",
     "evalue": "unsupported operand type(s) for +: 'int' and 'list'",
     "output_type": "error",
     "traceback": [
      "\u001b[0;31m---------------------------------------------------------------------------\u001b[0m",
      "\u001b[0;31mTypeError\u001b[0m                                 Traceback (most recent call last)",
      "\u001b[0;32m<ipython-input-17-378ce48fe392>\u001b[0m in \u001b[0;36m<module>\u001b[0;34m\u001b[0m\n\u001b[0;32m----> 1\u001b[0;31m \u001b[0msum\u001b[0m\u001b[0;34m(\u001b[0m\u001b[0mtable\u001b[0m\u001b[0;34m)\u001b[0m\u001b[0;34m\u001b[0m\u001b[0;34m\u001b[0m\u001b[0m\n\u001b[0m",
      "\u001b[0;31mTypeError\u001b[0m: unsupported operand type(s) for +: 'int' and 'list'"
     ]
    }
   ],
   "source": [
    "sum(table)"
   ]
  },
  {
   "cell_type": "code",
   "execution_count": 34,
   "metadata": {},
   "outputs": [],
   "source": [
    "accuracy = (table[0][0] + table[1][1])/(sum(table[0]) + sum(table[1]))\n",
    "precision = table[0][0]/sum(table[0])\n",
    "recall = table[0][0]/(table[0][0] + table[1][0])\n",
    "f_score = 2*precision*recall/(precision+recall)\n",
    "\n",
    "ans = [str(round(metric, 2)) for metric in [accuracy, precision, recall, f_score]]"
   ]
  },
  {
   "cell_type": "code",
   "execution_count": 35,
   "metadata": {},
   "outputs": [],
   "source": [
    "f = open('metrics-answer2.txt', 'w')\n",
    "f.write(' '.join(ans))\n",
    "f.close()"
   ]
  },
  {
   "cell_type": "code",
   "execution_count": 28,
   "metadata": {
    "collapsed": true
   },
   "outputs": [
    {
     "name": "stdout",
     "output_type": "stream",
     "text": [
      "0.535\n",
      "0.5584415584415584\n",
      "0.4215686274509804\n",
      "0.48044692737430167\n"
     ]
    }
   ],
   "source": [
    "print(metrics.accuracy_score(data.loc[:, 'true'], data.loc[:, 'pred']))\n",
    "print(metrics.precision_score(data.loc[:, 'true'], data.loc[:, 'pred']))\n",
    "print(metrics.recall_score(data.loc[:, 'true'], data.loc[:, 'pred']))\n",
    "print(metrics.f1_score(data.loc[:, 'true'], data.loc[:, 'pred']))"
   ]
  },
  {
   "cell_type": "markdown",
   "metadata": {},
   "source": [
    "## Second part"
   ]
  },
  {
   "cell_type": "code",
   "execution_count": 37,
   "metadata": {},
   "outputs": [
    {
     "data": {
      "text/html": [
       "<div>\n",
       "<style scoped>\n",
       "    .dataframe tbody tr th:only-of-type {\n",
       "        vertical-align: middle;\n",
       "    }\n",
       "\n",
       "    .dataframe tbody tr th {\n",
       "        vertical-align: top;\n",
       "    }\n",
       "\n",
       "    .dataframe thead th {\n",
       "        text-align: right;\n",
       "    }\n",
       "</style>\n",
       "<table border=\"1\" class=\"dataframe\">\n",
       "  <thead>\n",
       "    <tr style=\"text-align: right;\">\n",
       "      <th></th>\n",
       "      <th>true</th>\n",
       "      <th>score_logreg</th>\n",
       "      <th>score_svm</th>\n",
       "      <th>score_knn</th>\n",
       "      <th>score_tree</th>\n",
       "    </tr>\n",
       "  </thead>\n",
       "  <tbody>\n",
       "    <tr>\n",
       "      <th>0</th>\n",
       "      <td>0</td>\n",
       "      <td>0.683832</td>\n",
       "      <td>0.145976</td>\n",
       "      <td>0.787063</td>\n",
       "      <td>0.500000</td>\n",
       "    </tr>\n",
       "    <tr>\n",
       "      <th>1</th>\n",
       "      <td>1</td>\n",
       "      <td>0.801966</td>\n",
       "      <td>0.239511</td>\n",
       "      <td>1.000000</td>\n",
       "      <td>0.833333</td>\n",
       "    </tr>\n",
       "    <tr>\n",
       "      <th>2</th>\n",
       "      <td>0</td>\n",
       "      <td>0.382315</td>\n",
       "      <td>-0.245701</td>\n",
       "      <td>0.000000</td>\n",
       "      <td>0.000000</td>\n",
       "    </tr>\n",
       "    <tr>\n",
       "      <th>3</th>\n",
       "      <td>1</td>\n",
       "      <td>0.506797</td>\n",
       "      <td>-0.137058</td>\n",
       "      <td>0.000000</td>\n",
       "      <td>0.105263</td>\n",
       "    </tr>\n",
       "    <tr>\n",
       "      <th>4</th>\n",
       "      <td>1</td>\n",
       "      <td>0.488781</td>\n",
       "      <td>-0.154148</td>\n",
       "      <td>0.000000</td>\n",
       "      <td>0.105263</td>\n",
       "    </tr>\n",
       "  </tbody>\n",
       "</table>\n",
       "</div>"
      ],
      "text/plain": [
       "   true  score_logreg  score_svm  score_knn  score_tree\n",
       "0     0      0.683832   0.145976   0.787063    0.500000\n",
       "1     1      0.801966   0.239511   1.000000    0.833333\n",
       "2     0      0.382315  -0.245701   0.000000    0.000000\n",
       "3     1      0.506797  -0.137058   0.000000    0.105263\n",
       "4     1      0.488781  -0.154148   0.000000    0.105263"
      ]
     },
     "execution_count": 37,
     "metadata": {},
     "output_type": "execute_result"
    }
   ],
   "source": [
    "scores = pd.read_csv('scores.csv')\n",
    "scores.head()"
   ]
  },
  {
   "cell_type": "code",
   "execution_count": 39,
   "metadata": {},
   "outputs": [],
   "source": [
    "true_class = scores['true']\n",
    "logreg = scores['score_logreg']\n",
    "svm = scores['score_svm']\n",
    "knn = scores['score_knn']\n",
    "tree = scores['score_tree']"
   ]
  },
  {
   "cell_type": "code",
   "execution_count": 47,
   "metadata": {},
   "outputs": [
    {
     "name": "stdout",
     "output_type": "stream",
     "text": [
      "0.719187675070028 0.7086834733893557 0.6351540616246498 0.6919267707082833\n"
     ]
    }
   ],
   "source": [
    "logreg_auc = metrics.roc_auc_score(true_class, logreg)\n",
    "svm_auc = metrics.roc_auc_score(true_class, svm)\n",
    "knn_auc = metrics.roc_auc_score(true_class, knn)\n",
    "tree_auc = metrics.roc_auc_score(true_class, tree)\n",
    "print(logreg_auc, svm_auc, knn_auc, tree_auc)"
   ]
  },
  {
   "cell_type": "code",
   "execution_count": 44,
   "metadata": {},
   "outputs": [],
   "source": [
    "f = open('metrics-answer3', 'w')\n",
    "f.write('score_logreg')\n",
    "f.close()"
   ]
  },
  {
   "cell_type": "code",
   "execution_count": 62,
   "metadata": {},
   "outputs": [
    {
     "data": {
      "text/plain": [
       "0.5084745762711864"
      ]
     },
     "execution_count": 62,
     "metadata": {},
     "output_type": "execute_result"
    }
   ],
   "source": [
    "logreg_prc = metrics.precision_recall_curve(true_class, logreg)\n",
    "svm_prc = metrics.precision_recall_curve(true_class, svm)\n",
    "knn_prc = metrics.precision_recall_curve(true_class, knn)\n",
    "tree_prc = metrics.precision_recall_curve(true_class, tree)"
   ]
  },
  {
   "cell_type": "code",
   "execution_count": 70,
   "metadata": {},
   "outputs": [
    {
     "name": "stdout",
     "output_type": "stream",
     "text": [
      "0.6517857142857143 0.6228070175438597 0.6302521008403361 0.6065573770491803\n"
     ]
    }
   ],
   "source": [
    "tree_prc = list(tree_prc)\n",
    "tree_prc[0] = [tree_prc[0][i] for i in range(len(tree_prc[1])) if tree_prc[1][i] > 0.7]\n",
    "tree_prc[1] = [tree_prc[1][i] for i in range(len(tree_prc[1])) if tree_prc[1][i] > 0.7]\n",
    "tree_prc[2] = [tree_prc[2][i] for i in range(len(tree_prc[1])) if tree_prc[1][i] > 0.7]\n",
    "\n",
    "svm_prc = list(svm_prc)\n",
    "svm_prc[0] = [svm_prc[0][i] for i in range(len(svm_prc[1])) if svm_prc[1][i] > 0.7]\n",
    "svm_prc[1] = [svm_prc[1][i] for i in range(len(svm_prc[1])) if svm_prc[1][i] > 0.7]\n",
    "svm_prc[2] = [svm_prc[2][i] for i in range(len(svm_prc[1])) if svm_prc[1][i] > 0.7]\n",
    "\n",
    "logreg_prc = list(logreg_prc)\n",
    "logreg_prc[0] = [logreg_prc[0][i] for i in range(len(logreg_prc[1])) if logreg_prc[1][i] > 0.7]\n",
    "logreg_prc[1] = [logreg_prc[1][i] for i in range(len(logreg_prc[1])) if logreg_prc[1][i] > 0.7]\n",
    "logreg_prc[2] = [logreg_prc[2][i] for i in range(len(logreg_prc[1])) if logreg_prc[1][i] > 0.7]\n",
    "\n",
    "knn_prc = list(knn_prc)\n",
    "knn_prc[0] = [knn_prc[0][i] for i in range(len(knn_prc[1])) if knn_prc[1][i] > 0.7]\n",
    "knn_prc[1] = [knn_prc[1][i] for i in range(len(knn_prc[1])) if knn_prc[1][i] > 0.7]\n",
    "knn_prc[2] = [knn_prc[2][i] for i in range(len(knn_prc[1])) if knn_prc[1][i] > 0.7]\n",
    "\n",
    "print(max(tree_prc[0]), max(svm_prc[0]), max(logreg_prc[0]), max(knn_prc[0]))"
   ]
  },
  {
   "cell_type": "code",
   "execution_count": 73,
   "metadata": {},
   "outputs": [],
   "source": [
    "f = open('metrics-answer4.txt', 'w')\n",
    "f.write('score_tree')\n",
    "f.close()"
   ]
  }
 ],
 "metadata": {
  "kernelspec": {
   "display_name": "Python 2",
   "language": "python",
   "name": "python2"
  },
  "language_info": {
   "codemirror_mode": {
    "name": "ipython",
    "version": 3
   },
   "file_extension": ".py",
   "mimetype": "text/x-python",
   "name": "python",
   "nbconvert_exporter": "python",
   "pygments_lexer": "ipython3",
   "version": "3.6.8"
  }
 },
 "nbformat": 4,
 "nbformat_minor": 2
}
