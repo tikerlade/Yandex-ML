{
 "cells": [
  {
   "cell_type": "markdown",
   "metadata": {},
   "source": [
    "## Gradient Boost"
   ]
  },
  {
   "cell_type": "code",
   "execution_count": 114,
   "metadata": {},
   "outputs": [],
   "source": [
    "import pandas as pd\n",
    "import numpy as np\n",
    "from sklearn.metrics import log_loss\n",
    "from sklearn.model_selection import train_test_split\n",
    "from sklearn.ensemble import GradientBoostingClassifier\n",
    "from sklearn.ensemble import RandomForestClassifier\n",
    "from tqdm import tqdm_notebook\n",
    "import matplotlib.pyplot as plt\n",
    "import math\n",
    "%matplotlib inline"
   ]
  },
  {
   "cell_type": "code",
   "execution_count": 4,
   "metadata": {},
   "outputs": [],
   "source": [
    "data = pd.read_csv('gbm-data.csv')"
   ]
  },
  {
   "cell_type": "code",
   "execution_count": 5,
   "metadata": {},
   "outputs": [
    {
     "data": {
      "text/html": [
       "<div>\n",
       "<style scoped>\n",
       "    .dataframe tbody tr th:only-of-type {\n",
       "        vertical-align: middle;\n",
       "    }\n",
       "\n",
       "    .dataframe tbody tr th {\n",
       "        vertical-align: top;\n",
       "    }\n",
       "\n",
       "    .dataframe thead th {\n",
       "        text-align: right;\n",
       "    }\n",
       "</style>\n",
       "<table border=\"1\" class=\"dataframe\">\n",
       "  <thead>\n",
       "    <tr style=\"text-align: right;\">\n",
       "      <th></th>\n",
       "      <th>Activity</th>\n",
       "      <th>D1</th>\n",
       "      <th>D2</th>\n",
       "      <th>D3</th>\n",
       "      <th>D4</th>\n",
       "      <th>D5</th>\n",
       "      <th>D6</th>\n",
       "      <th>D7</th>\n",
       "      <th>D8</th>\n",
       "      <th>D9</th>\n",
       "      <th>...</th>\n",
       "      <th>D1767</th>\n",
       "      <th>D1768</th>\n",
       "      <th>D1769</th>\n",
       "      <th>D1770</th>\n",
       "      <th>D1771</th>\n",
       "      <th>D1772</th>\n",
       "      <th>D1773</th>\n",
       "      <th>D1774</th>\n",
       "      <th>D1775</th>\n",
       "      <th>D1776</th>\n",
       "    </tr>\n",
       "  </thead>\n",
       "  <tbody>\n",
       "    <tr>\n",
       "      <th>0</th>\n",
       "      <td>1</td>\n",
       "      <td>0.000000</td>\n",
       "      <td>0.497009</td>\n",
       "      <td>0.10</td>\n",
       "      <td>0.0</td>\n",
       "      <td>0.132956</td>\n",
       "      <td>0.678031</td>\n",
       "      <td>0.273166</td>\n",
       "      <td>0.585445</td>\n",
       "      <td>0.743663</td>\n",
       "      <td>...</td>\n",
       "      <td>0</td>\n",
       "      <td>0</td>\n",
       "      <td>0</td>\n",
       "      <td>0</td>\n",
       "      <td>0</td>\n",
       "      <td>0</td>\n",
       "      <td>0</td>\n",
       "      <td>0</td>\n",
       "      <td>0</td>\n",
       "      <td>0</td>\n",
       "    </tr>\n",
       "    <tr>\n",
       "      <th>1</th>\n",
       "      <td>1</td>\n",
       "      <td>0.366667</td>\n",
       "      <td>0.606291</td>\n",
       "      <td>0.05</td>\n",
       "      <td>0.0</td>\n",
       "      <td>0.111209</td>\n",
       "      <td>0.803455</td>\n",
       "      <td>0.106105</td>\n",
       "      <td>0.411754</td>\n",
       "      <td>0.836582</td>\n",
       "      <td>...</td>\n",
       "      <td>1</td>\n",
       "      <td>1</td>\n",
       "      <td>1</td>\n",
       "      <td>1</td>\n",
       "      <td>0</td>\n",
       "      <td>1</td>\n",
       "      <td>0</td>\n",
       "      <td>0</td>\n",
       "      <td>1</td>\n",
       "      <td>0</td>\n",
       "    </tr>\n",
       "    <tr>\n",
       "      <th>2</th>\n",
       "      <td>1</td>\n",
       "      <td>0.033300</td>\n",
       "      <td>0.480124</td>\n",
       "      <td>0.00</td>\n",
       "      <td>0.0</td>\n",
       "      <td>0.209791</td>\n",
       "      <td>0.610350</td>\n",
       "      <td>0.356453</td>\n",
       "      <td>0.517720</td>\n",
       "      <td>0.679051</td>\n",
       "      <td>...</td>\n",
       "      <td>0</td>\n",
       "      <td>0</td>\n",
       "      <td>0</td>\n",
       "      <td>0</td>\n",
       "      <td>0</td>\n",
       "      <td>0</td>\n",
       "      <td>0</td>\n",
       "      <td>0</td>\n",
       "      <td>0</td>\n",
       "      <td>0</td>\n",
       "    </tr>\n",
       "    <tr>\n",
       "      <th>3</th>\n",
       "      <td>1</td>\n",
       "      <td>0.000000</td>\n",
       "      <td>0.538825</td>\n",
       "      <td>0.00</td>\n",
       "      <td>0.5</td>\n",
       "      <td>0.196344</td>\n",
       "      <td>0.724230</td>\n",
       "      <td>0.235606</td>\n",
       "      <td>0.288764</td>\n",
       "      <td>0.805110</td>\n",
       "      <td>...</td>\n",
       "      <td>0</td>\n",
       "      <td>0</td>\n",
       "      <td>0</td>\n",
       "      <td>0</td>\n",
       "      <td>0</td>\n",
       "      <td>0</td>\n",
       "      <td>0</td>\n",
       "      <td>0</td>\n",
       "      <td>0</td>\n",
       "      <td>0</td>\n",
       "    </tr>\n",
       "    <tr>\n",
       "      <th>4</th>\n",
       "      <td>0</td>\n",
       "      <td>0.100000</td>\n",
       "      <td>0.517794</td>\n",
       "      <td>0.00</td>\n",
       "      <td>0.0</td>\n",
       "      <td>0.494734</td>\n",
       "      <td>0.781422</td>\n",
       "      <td>0.154361</td>\n",
       "      <td>0.303809</td>\n",
       "      <td>0.812646</td>\n",
       "      <td>...</td>\n",
       "      <td>0</td>\n",
       "      <td>0</td>\n",
       "      <td>0</td>\n",
       "      <td>0</td>\n",
       "      <td>0</td>\n",
       "      <td>0</td>\n",
       "      <td>0</td>\n",
       "      <td>0</td>\n",
       "      <td>0</td>\n",
       "      <td>0</td>\n",
       "    </tr>\n",
       "  </tbody>\n",
       "</table>\n",
       "<p>5 rows × 1777 columns</p>\n",
       "</div>"
      ],
      "text/plain": [
       "   Activity        D1        D2    D3   D4        D5        D6        D7  \\\n",
       "0         1  0.000000  0.497009  0.10  0.0  0.132956  0.678031  0.273166   \n",
       "1         1  0.366667  0.606291  0.05  0.0  0.111209  0.803455  0.106105   \n",
       "2         1  0.033300  0.480124  0.00  0.0  0.209791  0.610350  0.356453   \n",
       "3         1  0.000000  0.538825  0.00  0.5  0.196344  0.724230  0.235606   \n",
       "4         0  0.100000  0.517794  0.00  0.0  0.494734  0.781422  0.154361   \n",
       "\n",
       "         D8        D9  ...    D1767  D1768  D1769  D1770  D1771  D1772  D1773  \\\n",
       "0  0.585445  0.743663  ...        0      0      0      0      0      0      0   \n",
       "1  0.411754  0.836582  ...        1      1      1      1      0      1      0   \n",
       "2  0.517720  0.679051  ...        0      0      0      0      0      0      0   \n",
       "3  0.288764  0.805110  ...        0      0      0      0      0      0      0   \n",
       "4  0.303809  0.812646  ...        0      0      0      0      0      0      0   \n",
       "\n",
       "   D1774  D1775  D1776  \n",
       "0      0      0      0  \n",
       "1      0      1      0  \n",
       "2      0      0      0  \n",
       "3      0      0      0  \n",
       "4      0      0      0  \n",
       "\n",
       "[5 rows x 1777 columns]"
      ]
     },
     "execution_count": 5,
     "metadata": {},
     "output_type": "execute_result"
    }
   ],
   "source": [
    "data.head()"
   ]
  },
  {
   "cell_type": "code",
   "execution_count": 10,
   "metadata": {},
   "outputs": [],
   "source": [
    "np_data = np.array(data.values)\n",
    "data_train, data_test = train_test_split(np_data, test_size=0.8, random_state=241)"
   ]
  },
  {
   "cell_type": "code",
   "execution_count": 26,
   "metadata": {},
   "outputs": [],
   "source": [
    "X_train = data_train[:, 1:-1]\n",
    "y_train = data_train[:, 0]\n",
    "\n",
    "X_test = data_test[:, 1:-1]\n",
    "y_test = data_test[:, 0]"
   ]
  },
  {
   "cell_type": "code",
   "execution_count": 108,
   "metadata": {},
   "outputs": [],
   "source": [
    "def predict(clf, X, y):\n",
    "    result = []\n",
    "    \n",
    "    for stage in clf.staged_decision_function(X):\n",
    "        ans = [1/(1 + math.exp(-pred)) for pred in stage]\n",
    "        result.append(log_loss(y, ans))\n",
    "    return result"
   ]
  },
  {
   "cell_type": "code",
   "execution_count": 113,
   "metadata": {},
   "outputs": [
    {
     "data": {
      "application/vnd.jupyter.widget-view+json": {
       "model_id": "7e72457c2c5a4aafb2b663a286f05ba4",
       "version_major": 2,
       "version_minor": 0
      },
      "text/plain": [
       "HBox(children=(IntProgress(value=0, max=5), HTML(value='')))"
      ]
     },
     "metadata": {},
     "output_type": "display_data"
    },
    {
     "name": "stdout",
     "output_type": "stream",
     "text": [
      "      Iter       Train Loss   Remaining Time \n",
      "         1           1.0190           14.98s\n",
      "         2           0.9192           13.83s\n",
      "         3           0.8272           12.41s\n",
      "         4           0.7834           11.50s\n",
      "         5           0.7109           11.74s\n",
      "         6           0.6368           11.79s\n",
      "         7           0.5797           11.55s\n",
      "         8           0.5610           11.11s\n",
      "         9           0.5185           10.95s\n",
      "        10           0.4984           10.68s\n",
      "        20           0.1999           10.52s\n",
      "        30           0.1313           10.43s\n",
      "        40           0.0790           10.12s\n",
      "        50           0.0511            9.81s\n",
      "        60           0.0352            9.32s\n",
      "        70           0.0245            8.78s\n",
      "        80           0.0162            8.22s\n",
      "        90           0.0114            7.62s\n",
      "       100           0.0077            7.15s\n",
      "       200           0.0004            2.10s\n",
      "0.5822942594278476 0\n",
      "      Iter       Train Loss   Remaining Time \n",
      "         1           1.1255           13.42s\n",
      "         2           1.0035           13.40s\n",
      "         3           0.9386           13.87s\n",
      "         4           0.8844           12.91s\n",
      "         5           0.8381           12.57s\n",
      "         6           0.7995           12.58s\n",
      "         7           0.7559           12.21s\n",
      "         8           0.7205           11.94s\n",
      "         9           0.6958           11.64s\n",
      "        10           0.6725           11.43s\n",
      "        20           0.4672           10.43s\n",
      "        30           0.3179           10.24s\n",
      "        40           0.2274            9.49s\n",
      "        50           0.1774            9.03s\n",
      "        60           0.1394            8.53s\n",
      "        70           0.1050            8.41s\n",
      "        80           0.0805            7.91s\n",
      "        90           0.0650            7.63s\n",
      "       100           0.0511            7.41s\n",
      "       200           0.0058            2.29s\n",
      "0.5582025523164261 6\n",
      "      Iter       Train Loss   Remaining Time \n",
      "         1           1.2095           18.31s\n",
      "         2           1.1006           17.15s\n",
      "         3           1.0240           17.23s\n",
      "         4           0.9729           16.78s\n",
      "         5           0.9387           15.91s\n",
      "         6           0.8948           15.61s\n",
      "         7           0.8621           14.74s\n",
      "         8           0.8360           14.02s\n",
      "         9           0.8171           13.54s\n",
      "        10           0.7883           13.54s\n",
      "        20           0.6164           12.04s\n",
      "        30           0.4933           11.08s\n",
      "        40           0.4248           10.29s\n",
      "        50           0.3345           10.25s\n",
      "        60           0.2760            9.50s\n",
      "        70           0.2263            8.80s\n",
      "        80           0.1971            8.15s\n",
      "        90           0.1693            7.61s\n",
      "       100           0.1388            7.16s\n",
      "       200           0.0294            2.30s\n",
      "0.5423141110024554 10\n",
      "      Iter       Train Loss   Remaining Time \n",
      "         1           1.2613           16.03s\n",
      "         2           1.1715           15.64s\n",
      "         3           1.1009           15.75s\n",
      "         4           1.0529           14.92s\n",
      "         5           1.0130           14.65s\n",
      "         6           0.9740           14.61s\n",
      "         7           0.9475           13.75s\n",
      "         8           0.9197           13.56s\n",
      "         9           0.8979           13.02s\n",
      "        10           0.8730           13.21s\n",
      "        20           0.7207           11.10s\n",
      "        30           0.6055           11.29s\n",
      "        40           0.5244           10.98s\n",
      "        50           0.4501           10.58s\n",
      "        60           0.3908           10.04s\n",
      "        70           0.3372            9.31s\n",
      "        80           0.3009            9.19s\n",
      "        90           0.2603            8.62s\n",
      "       100           0.2327            8.11s\n",
      "       200           0.0835            2.58s\n",
      "0.5314507963190638 36\n",
      "      Iter       Train Loss   Remaining Time \n",
      "         1           1.3199           16.31s\n",
      "         2           1.2645           16.18s\n",
      "         3           1.2170           15.27s\n",
      "         4           1.1775           14.82s\n",
      "         5           1.1404           15.43s\n",
      "         6           1.1106           15.08s\n",
      "         7           1.0844           14.85s\n",
      "         8           1.0617           14.61s\n",
      "         9           1.0411           14.45s\n",
      "        10           1.0223           14.42s\n",
      "        20           0.8864           12.64s\n",
      "        30           0.7844           11.42s\n",
      "        40           0.7176           10.74s\n",
      "        50           0.6590           10.08s\n",
      "        60           0.6120            9.33s\n",
      "        70           0.5599            8.68s\n",
      "        80           0.5242            8.04s\n",
      "        90           0.4829            7.59s\n",
      "       100           0.4473            7.10s\n",
      "       200           0.2379            2.30s\n",
      "0.5269201872275844 51\n"
     ]
    },
    {
     "data": {
      "image/png": "[encoded data removed]",
      "text/plain": [
       "<Figure size 432x288 with 1 Axes>"
      ]
     },
     "metadata": {
      "needs_background": "light"
     },
     "output_type": "display_data"
    },
    {
     "data": {
      "image/png": "[encoded data removed]",
      "text/plain": [
       "<Figure size 432x288 with 1 Axes>"
      ]
     },
     "metadata": {
      "needs_background": "light"
     },
     "output_type": "display_data"
    },
    {
     "data": {
      "image/png": "[encoded data removed]",
      "text/plain": [
       "<Figure size 432x288 with 1 Axes>"
      ]
     },
     "metadata": {
      "needs_background": "light"
     },
     "output_type": "display_data"
    },
    {
     "data": {
      "image/png": "[encoded data removed]",
      "text/plain": [
       "<Figure size 432x288 with 1 Axes>"
      ]
     },
     "metadata": {
      "needs_background": "light"
     },
     "output_type": "display_data"
    },
    {
     "data": {
      "image/png": "[encoded data removed]",
      "text/plain": [
       "<Figure size 432x288 with 1 Axes>"
      ]
     },
     "metadata": {
      "needs_background": "light"
     },
     "output_type": "display_data"
    }
   ],
   "source": [
    "learning_rate = [1, 0.5, 0.3, 0.2, 0.1]\n",
    "#learning_rate = [0.2]\n",
    "y_pred = []\n",
    "\n",
    "for rate in tqdm_notebook(learning_rate):\n",
    "    clf = GradientBoostingClassifier(n_estimators=250, learning_rate=rate, verbose=True, random_state=241)\n",
    "    clf.fit(X_train, y_train)\n",
    "    train_loss = predict(clf, X_train, y_train)\n",
    "    test_loss = predict(clf, X_test, y_test)\n",
    "    \n",
    "    print(min(test_loss), test_loss.index(min(test_loss)))\n",
    "    \n",
    "    plt.figure()\n",
    "    plt.plot(train_loss, 'g', linewidth=2)\n",
    "    plt.plot(test_loss, 'r', linewidth=2)\n",
    "    plt.legend(['train', 'test'])\n",
    "    plt.savefig('rate_' + str(rate) + '.png')"
   ]
  },
  {
   "cell_type": "code",
   "execution_count": 115,
   "metadata": {},
   "outputs": [
    {
     "name": "stdout",
     "output_type": "stream",
     "text": [
      "0.5410941951182815\n"
     ]
    }
   ],
   "source": [
    "forest_clf = RandomForestClassifier(n_estimators=37, random_state=241)\n",
    "forest_clf.fit(X_train, y_train)\n",
    "\n",
    "y_pred_forest = forest_clf.predict_proba(X_test)\n",
    "print(log_loss(y_test, y_pred_forest))"
   ]
  }
 ],
 "metadata": {
  "kernelspec": {
   "display_name": "Python 2",
   "language": "python",
   "name": "python2"
  },
  "language_info": {
   "codemirror_mode": {
    "name": "ipython",
    "version": 3
   },
   "file_extension": ".py",
   "mimetype": "text/x-python",
   "name": "python",
   "nbconvert_exporter": "python",
   "pygments_lexer": "ipython3",
   "version": "3.6.8"
  }
 },
 "nbformat": 4,
 "nbformat_minor": 2
}
