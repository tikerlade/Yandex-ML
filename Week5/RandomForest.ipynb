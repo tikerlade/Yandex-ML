{
 "cells": [
  {
   "cell_type": "markdown",
   "metadata": {},
   "source": [
    "## Random Forest"
   ]
  },
  {
   "cell_type": "code",
   "execution_count": 34,
   "metadata": {},
   "outputs": [],
   "source": [
    "import pandas as pd\n",
    "from tqdm import tqdm_notebook\n",
    "from sklearn.ensemble import RandomForestRegressor\n",
    "from sklearn.metrics import r2_score\n",
    "from sklearn.metrics import make_scorer\n",
    "from sklearn.model_selection import KFold\n",
    "from sklearn.model_selection import cross_val_score"
   ]
  },
  {
   "cell_type": "code",
   "execution_count": 35,
   "metadata": {},
   "outputs": [],
   "source": [
    "data = pd.read_csv('abalone.csv')"
   ]
  },
  {
   "cell_type": "code",
   "execution_count": 36,
   "metadata": {},
   "outputs": [
    {
     "data": {
      "text/html": [
       "<div>\n",
       "<style scoped>\n",
       "    .dataframe tbody tr th:only-of-type {\n",
       "        vertical-align: middle;\n",
       "    }\n",
       "\n",
       "    .dataframe tbody tr th {\n",
       "        vertical-align: top;\n",
       "    }\n",
       "\n",
       "    .dataframe thead th {\n",
       "        text-align: right;\n",
       "    }\n",
       "</style>\n",
       "<table border=\"1\" class=\"dataframe\">\n",
       "  <thead>\n",
       "    <tr style=\"text-align: right;\">\n",
       "      <th></th>\n",
       "      <th>Sex</th>\n",
       "      <th>Length</th>\n",
       "      <th>Diameter</th>\n",
       "      <th>Height</th>\n",
       "      <th>WholeWeight</th>\n",
       "      <th>ShuckedWeight</th>\n",
       "      <th>VisceraWeight</th>\n",
       "      <th>ShellWeight</th>\n",
       "      <th>Rings</th>\n",
       "    </tr>\n",
       "  </thead>\n",
       "  <tbody>\n",
       "    <tr>\n",
       "      <th>0</th>\n",
       "      <td>M</td>\n",
       "      <td>0.455</td>\n",
       "      <td>0.365</td>\n",
       "      <td>0.095</td>\n",
       "      <td>0.5140</td>\n",
       "      <td>0.2245</td>\n",
       "      <td>0.1010</td>\n",
       "      <td>0.150</td>\n",
       "      <td>15</td>\n",
       "    </tr>\n",
       "    <tr>\n",
       "      <th>1</th>\n",
       "      <td>M</td>\n",
       "      <td>0.350</td>\n",
       "      <td>0.265</td>\n",
       "      <td>0.090</td>\n",
       "      <td>0.2255</td>\n",
       "      <td>0.0995</td>\n",
       "      <td>0.0485</td>\n",
       "      <td>0.070</td>\n",
       "      <td>7</td>\n",
       "    </tr>\n",
       "    <tr>\n",
       "      <th>2</th>\n",
       "      <td>F</td>\n",
       "      <td>0.530</td>\n",
       "      <td>0.420</td>\n",
       "      <td>0.135</td>\n",
       "      <td>0.6770</td>\n",
       "      <td>0.2565</td>\n",
       "      <td>0.1415</td>\n",
       "      <td>0.210</td>\n",
       "      <td>9</td>\n",
       "    </tr>\n",
       "    <tr>\n",
       "      <th>3</th>\n",
       "      <td>M</td>\n",
       "      <td>0.440</td>\n",
       "      <td>0.365</td>\n",
       "      <td>0.125</td>\n",
       "      <td>0.5160</td>\n",
       "      <td>0.2155</td>\n",
       "      <td>0.1140</td>\n",
       "      <td>0.155</td>\n",
       "      <td>10</td>\n",
       "    </tr>\n",
       "    <tr>\n",
       "      <th>4</th>\n",
       "      <td>I</td>\n",
       "      <td>0.330</td>\n",
       "      <td>0.255</td>\n",
       "      <td>0.080</td>\n",
       "      <td>0.2050</td>\n",
       "      <td>0.0895</td>\n",
       "      <td>0.0395</td>\n",
       "      <td>0.055</td>\n",
       "      <td>7</td>\n",
       "    </tr>\n",
       "  </tbody>\n",
       "</table>\n",
       "</div>"
      ],
      "text/plain": [
       "  Sex  Length  Diameter  Height  WholeWeight  ShuckedWeight  VisceraWeight  \\\n",
       "0   M   0.455     0.365   0.095       0.5140         0.2245         0.1010   \n",
       "1   M   0.350     0.265   0.090       0.2255         0.0995         0.0485   \n",
       "2   F   0.530     0.420   0.135       0.6770         0.2565         0.1415   \n",
       "3   M   0.440     0.365   0.125       0.5160         0.2155         0.1140   \n",
       "4   I   0.330     0.255   0.080       0.2050         0.0895         0.0395   \n",
       "\n",
       "   ShellWeight  Rings  \n",
       "0        0.150     15  \n",
       "1        0.070      7  \n",
       "2        0.210      9  \n",
       "3        0.155     10  \n",
       "4        0.055      7  "
      ]
     },
     "execution_count": 36,
     "metadata": {},
     "output_type": "execute_result"
    }
   ],
   "source": [
    "data.head()"
   ]
  },
  {
   "cell_type": "code",
   "execution_count": 42,
   "metadata": {},
   "outputs": [],
   "source": [
    "data['Sex'] = data['Sex'].map(lambda x: 1 if x == 'M' else (-1 if x == 'F' else 0))\n",
    "X_train = data.iloc[:, :-1]\n",
    "y_train = data.iloc[:,-1]"
   ]
  },
  {
   "cell_type": "code",
   "execution_count": 44,
   "metadata": {},
   "outputs": [
    {
     "data": {
      "text/plain": [
       "4177"
      ]
     },
     "execution_count": 44,
     "metadata": {},
     "output_type": "execute_result"
    }
   ],
   "source": [
    "len(X_train)"
   ]
  },
  {
   "cell_type": "code",
   "execution_count": 47,
   "metadata": {
    "scrolled": true
   },
   "outputs": [
    {
     "data": {
      "application/vnd.jupyter.widget-view+json": {
       "model_id": "bacf40ffd03e4c159992f1ab7927da4d",
       "version_major": 2,
       "version_minor": 0
      },
      "text/plain": [
       "HBox(children=(IntProgress(value=0, max=50), HTML(value='')))"
      ]
     },
     "metadata": {},
     "output_type": "display_data"
    },
    {
     "name": "stdout",
     "output_type": "stream",
     "text": [
      "\n"
     ]
    },
    {
     "data": {
      "text/plain": [
       "[array([-0.00150997,  0.16187624, -0.01938258,  0.05242713,  0.02538538]),\n",
       " array([0.31294315, 0.31528827, 0.28429054, 0.31433654, 0.2931744 ]),\n",
       " array([0.37898021, 0.38012878, 0.43706714, 0.42785785, 0.44024232]),\n",
       " array([0.3992452 , 0.44758639, 0.48451181, 0.38986404, 0.41868133]),\n",
       " array([0.4360954 , 0.44793186, 0.4487465 , 0.41554958, 0.442675  ]),\n",
       " array([0.4672072 , 0.4585708 , 0.48828634, 0.45807949, 0.44816477]),\n",
       " array([0.49644768, 0.49388183, 0.47702862, 0.45464098, 0.48481276]),\n",
       " array([0.49484134, 0.49160258, 0.50607308, 0.46139296, 0.44085013]),\n",
       " array([0.44925835, 0.48368848, 0.52516866, 0.46203635, 0.47358286]),\n",
       " array([0.46373405, 0.50772845, 0.50628445, 0.46155346, 0.49557407]),\n",
       " array([0.47442126, 0.49998293, 0.53146591, 0.48473922, 0.48105443]),\n",
       " array([0.49931882, 0.51587503, 0.52192108, 0.46176055, 0.50355887]),\n",
       " array([0.49152403, 0.47855034, 0.53407267, 0.50661261, 0.49846767]),\n",
       " array([0.50021922, 0.50178791, 0.55017586, 0.48349021, 0.49523472]),\n",
       " array([0.49913805, 0.51758635, 0.52564251, 0.45920397, 0.50810783]),\n",
       " array([0.52024406, 0.49434449, 0.53393107, 0.49342295, 0.48668901]),\n",
       " array([0.48069747, 0.4846661 , 0.52709921, 0.4817248 , 0.51255877]),\n",
       " array([0.50354003, 0.50056722, 0.53176625, 0.48620845, 0.50021668]),\n",
       " array([0.49339395, 0.49703088, 0.5203629 , 0.4876378 , 0.50089749]),\n",
       " array([0.49004781, 0.49875469, 0.53049492, 0.48315866, 0.49681948]),\n",
       " array([0.50995178, 0.51136137, 0.54686149, 0.49557216, 0.5030731 ]),\n",
       " array([0.49607453, 0.52570715, 0.54449336, 0.49415382, 0.52585287]),\n",
       " array([0.50584055, 0.50477451, 0.55501049, 0.4949578 , 0.52264556]),\n",
       " array([0.52143199, 0.52298751, 0.54348197, 0.48355562, 0.5156487 ]),\n",
       " array([0.50420043, 0.50996416, 0.54332166, 0.49982919, 0.52465657]),\n",
       " array([0.50322587, 0.50363188, 0.55342451, 0.48404983, 0.52528762]),\n",
       " array([0.52653024, 0.52128213, 0.55275791, 0.49704601, 0.5115916 ]),\n",
       " array([0.51047315, 0.52531291, 0.54572285, 0.50669869, 0.51095653]),\n",
       " array([0.52333174, 0.51426914, 0.54531602, 0.48801001, 0.51738063]),\n",
       " array([0.50538083, 0.5170906 , 0.53663414, 0.48598557, 0.51308469]),\n",
       " array([0.51056532, 0.5227552 , 0.55225518, 0.50038248, 0.52558678]),\n",
       " array([0.50902312, 0.52798103, 0.53917833, 0.49976877, 0.50312573]),\n",
       " array([0.51898383, 0.51723176, 0.54876228, 0.50318261, 0.51250125]),\n",
       " array([0.51247299, 0.50981338, 0.54269382, 0.49937295, 0.51623315]),\n",
       " array([0.51961947, 0.5214016 , 0.5415809 , 0.49890433, 0.52558413]),\n",
       " array([0.52144674, 0.5142412 , 0.54012416, 0.48825261, 0.53314586]),\n",
       " array([0.51033501, 0.51673147, 0.55084424, 0.49115152, 0.51187266]),\n",
       " array([0.51159199, 0.51237375, 0.55499844, 0.50319637, 0.52164634]),\n",
       " array([0.51886068, 0.52454945, 0.54302245, 0.51122746, 0.52010843]),\n",
       " array([0.50390073, 0.51765621, 0.55582595, 0.49725457, 0.51982888]),\n",
       " array([0.52462993, 0.53132059, 0.54548713, 0.51343025, 0.51883762]),\n",
       " array([0.52069324, 0.52178637, 0.55676333, 0.50795684, 0.51632683]),\n",
       " array([0.51477809, 0.53196833, 0.54897908, 0.50054591, 0.53086947]),\n",
       " array([0.5035278 , 0.52384396, 0.55749665, 0.5081025 , 0.53353763]),\n",
       " array([0.51043728, 0.51199823, 0.54913923, 0.49655787, 0.5245824 ]),\n",
       " array([0.53072962, 0.51669098, 0.54748447, 0.50409977, 0.51633969]),\n",
       " array([0.50771694, 0.50935301, 0.55650468, 0.50737857, 0.51934329]),\n",
       " array([0.51436651, 0.5290936 , 0.54696577, 0.50515472, 0.53092045]),\n",
       " array([0.52103829, 0.5122801 , 0.55558837, 0.49949458, 0.52436851]),\n",
       " array([0.50725485, 0.52677521, 0.55785817, 0.50051923, 0.51925304])]"
      ]
     },
     "execution_count": 47,
     "metadata": {},
     "output_type": "execute_result"
    }
   ],
   "source": [
    "cv = KFold(n_splits=5, shuffle=True, random_state=1)\n",
    "results = []\n",
    "\n",
    "for i in tqdm_notebook(range(1, 51)):\n",
    "    clf = RandomForestRegressor(n_estimators=i)\n",
    "    res = cross_val_score(clf, X_train, y_train, cv=cv, scoring=make_scorer(r2_score))\n",
    "    results.append(res)"
   ]
  },
  {
   "cell_type": "code",
   "execution_count": 49,
   "metadata": {},
   "outputs": [],
   "source": [
    "out = [sum(arr)/5 for arr in results]"
   ]
  },
  {
   "cell_type": "code",
   "execution_count": 53,
   "metadata": {},
   "outputs": [
    {
     "name": "stdout",
     "output_type": "stream",
     "text": [
      "26\n",
      "30\n",
      "32\n",
      "34\n",
      "37\n",
      "38\n",
      "40\n",
      "41\n",
      "42\n",
      "43\n",
      "45\n",
      "46\n",
      "47\n",
      "48\n",
      "49\n"
     ]
    }
   ],
   "source": [
    "for i in out:\n",
    "    if i > 0.52:\n",
    "        print(out.index(i))"
   ]
  }
 ],
 "metadata": {
  "kernelspec": {
   "display_name": "Python 2",
   "language": "python",
   "name": "python2"
  },
  "language_info": {
   "codemirror_mode": {
    "name": "ipython",
    "version": 3
   },
   "file_extension": ".py",
   "mimetype": "text/x-python",
   "name": "python",
   "nbconvert_exporter": "python",
   "pygments_lexer": "ipython3",
   "version": "3.6.8"
  }
 },
 "nbformat": 4,
 "nbformat_minor": 2
}
